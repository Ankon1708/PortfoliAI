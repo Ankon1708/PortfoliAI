{
 "cells": [
  {
   "cell_type": "code",
   "execution_count": 1,
   "id": "152bae07-4ae4-4a11-813a-0bc4ae1ae790",
   "metadata": {},
   "outputs": [],
   "source": [
    "from Keys import my_google_api_key\n",
    "import os\n",
    "os.environ[\"GOOGLE_API_KEY\"] = my_google_api_key"
   ]
  },
  {
   "cell_type": "code",
   "execution_count": 101,
   "id": "5944f415-2955-4bbf-bc15-981f5af31c5a",
   "metadata": {},
   "outputs": [],
   "source": [
    "path='C:\\\\Users\\\\ASUS\\\\OneDrive\\\\Coding\\\\LnE Langchain\\\\RAG Documents'\n",
    "dir_list = os.listdir(path)"
   ]
  },
  {
   "cell_type": "code",
   "execution_count": 4,
   "id": "20c8f5ac-1c64-4a5f-8123-103870d24e89",
   "metadata": {},
   "outputs": [],
   "source": [
    "from langchain_community.document_loaders.word_document import UnstructuredWordDocumentLoader\n",
    "from langchain_community.document_loaders import PyPDFLoader \n",
    "from langchain_community.document_loaders import CSVLoader\n",
    "from langchain import FAISS"
   ]
  },
  {
   "cell_type": "code",
   "execution_count": 5,
   "id": "4d31ef65-124b-45cf-a7db-2bfd99dc06aa",
   "metadata": {},
   "outputs": [
    {
     "name": "stderr",
     "output_type": "stream",
     "text": [
      "[nltk_data] Downloading package punkt to\n",
      "[nltk_data]     C:\\Users\\ASUS\\AppData\\Roaming\\nltk_data...\n",
      "[nltk_data]   Package punkt is already up-to-date!\n",
      "[nltk_data] Downloading package averaged_perceptron_tagger to\n",
      "[nltk_data]     C:\\Users\\ASUS\\AppData\\Roaming\\nltk_data...\n",
      "[nltk_data]   Package averaged_perceptron_tagger is already up-to-\n",
      "[nltk_data]       date!\n"
     ]
    },
    {
     "data": {
      "text/plain": [
       "True"
      ]
     },
     "execution_count": 5,
     "metadata": {},
     "output_type": "execute_result"
    }
   ],
   "source": [
    "import nltk\n",
    "nltk.download('punkt')\n",
    "nltk.download('averaged_perceptron_tagger')"
   ]
  },
  {
   "cell_type": "code",
   "execution_count": 7,
   "id": "1ad51646-b3c6-40fd-b9f9-12cd3fdc4d18",
   "metadata": {},
   "outputs": [],
   "source": [
    "from langchain.text_splitter import RecursiveCharacterTextSplitter\n",
    "r_splitter = RecursiveCharacterTextSplitter(\n",
    "    separators = [\"\\n\\n\", \"\\n\", \" \"],  \n",
    "    chunk_size = 1000, \n",
    "    chunk_overlap  = 100,\n",
    "    length_function = len)"
   ]
  },
  {
   "cell_type": "code",
   "execution_count": 90,
   "id": "beeab56a-67da-42f0-96f4-388483768b14",
   "metadata": {},
   "outputs": [
    {
     "data": {
      "text/plain": [
       "['ALGORITHM_TO_SOLVE_NAND_TREES_(2K19MC008)_(2K19MC019).pdf',\n",
       " 'Ankon Bhowmick Cover Letter.pdf',\n",
       " 'Ankon Bhowmick Resume.docx',\n",
       " 'BADS ACW.docx',\n",
       " 'BTech_Course_List.csv',\n",
       " 'BTech_Course_List.pdf',\n",
       " 'CL Q.docx',\n",
       " 'CL.docx',\n",
       " 'Dissertation in MSc DS&A.pdf',\n",
       " 'LUBS 5990M.docx',\n",
       " 'MATH 5743M A1.docx',\n",
       " 'MATH 5743M A2.docx',\n",
       " 'MATH 5743M A3.docx',\n",
       " 'MC204 PROJECT REPORT.docx',\n",
       " 'MC303 PROJECT REPORT.docx',\n",
       " 'MC305 PROJECT REPORT.docx',\n",
       " 'MC306 MTE Project Report.docx',\n",
       " 'Research Paper.docx',\n",
       " 'TSSA Practical.docx',\n",
       " 'UoL MSc Transcript.pdf']"
      ]
     },
     "execution_count": 90,
     "metadata": {},
     "output_type": "execute_result"
    }
   ],
   "source": [
    "dir_list"
   ]
  },
  {
   "cell_type": "code",
   "execution_count": 103,
   "id": "9d114d2d-faf5-48f2-ae97-60c2884a6965",
   "metadata": {},
   "outputs": [],
   "source": [
    "chunks=[]"
   ]
  },
  {
   "cell_type": "code",
   "execution_count": 104,
   "id": "0727180d-af8e-4df8-a93b-7aaf44e22270",
   "metadata": {},
   "outputs": [],
   "source": [
    "for x in dir_list:\n",
    "    if (x.endswith(\".docx\")):\n",
    "        doc=UnstructuredWordDocumentLoader(path+\"//\"+x).load()\n",
    "        doc_chunks=r_splitter.split_documents(doc)\n",
    "        chunks+=doc_chunks"
   ]
  },
  {
   "cell_type": "code",
   "execution_count": 105,
   "id": "f8061f26-38c5-4ddf-9c80-4564ae293e7d",
   "metadata": {},
   "outputs": [
    {
     "name": "stdout",
     "output_type": "stream",
     "text": [
      "[Document(metadata={'source': 'C:\\\\Users\\\\ASUS\\\\OneDrive\\\\Coding\\\\LnE Langchain\\\\RAG Documents//BTech_Course_List.pdf', 'page': 0}, page_content='Semester Course Title\\nSemester I   MATHEMATICS - I  : B+\\nSemester I   PHYSICS - I  : B\\nSemester I   BASIC ELECTRICAL ENGINEERING  : A+\\nSemester I   PROGRAMMING FUNDAMENTALS  : A+\\nSemester I   ENGINEERING GRAPHICS  : B+\\nSemester I   GERMAN  : B+\\nSemester II  MATHEMATICS - II  : C\\nSemester II  PHYSICS - II  : B+\\nSemester II  CHEMISTRY  : A\\nSemester II  BASIC MECHANICAL ENGINEERING  : A\\nSemester II  WORKSHOP PRACTICE  : B+\\nSemester II  INTRODUCTION TO ENVIRONMENTAL SCIENCE  : A\\nSemester III  DATA STRUCTURE  : A\\nSemester III  DISCRETE MATHEMATICS  : A+\\nSemester III  MATHEMATICS - III  : A+\\nSemester III  ENGINEERING ANALYSIS AND DESIGN (DIFFERENTIAL EQUATIONS AND APPLICATIONS) : B+\\nSemester III  PROBABILITY & STATISTICS  : A\\nSemester III  FINANCIAL STATEMENTS ANALYSIS  : A\\nSemester IV  ALGORITHM DESIGN & ANALYSIS  : A\\nSemester IV  REAL ANALYSIS  : A+\\nSemester IV  SCIENTIFIC COMPUTING  : A+\\nSemester IV  COMPUTER ORGANIZATION & ARCHITECTURE  : A+\\nSemester IV  LINEAR ALGEBRA  : A+\\nSemester IV  APPRECIATION OF SHORT STORIES  : O\\nSemester V  OPERATING SYSTEM  : A+\\nSemester V  STOCHASTIC PROCESSES  : A+\\nSemester V  FUNDAMENTALS OF MANAGEMENT  : A+\\nSemester V  OPERATIONS RESEARCH  : O\\nSemester V  OBJECT ORIENTED PROGRAMMING  : A+\\nSemester V  MACHINE LEARNING  : A\\nSemester VI  DATABASE MANAGEMENT SYSTEM  : A\\nSemester VI  THEORY OF COMPUTATION  : O\\nSemester VI  FINANCIAL ENGINEERING  : A\\nSemester VI  PATTERN RECOGNITION  : A\\nSemester VI  ARTIFICIAL INTELLIGENCE  : A\\nSemester VI  ENGINEERING ECONOMICS  : A+\\nSemester VII  B.TECH PROJECT-I  : A+\\nSemester VII  TRAINING SEMINAR  : O\\nSemester VII  DIGITAL IMAGE PROCESSING  : A\\nSemester VII  NATURAL LANGUAGE PROCESSING  : A\\nSemester VII  DATA WAREHOUSING & DATA MINING  : A+\\nSemester VII  THE BITS AND BYTES OF COMPUTER NETWORKING (COURSERA)  : A+\\nSemester VII  PRACTICAL TIME SERIES ANALYSIS (COURSERA)  : A+\\nSemester VIII  B. TECH. PROJECT-II  : A\\nSemester VIII  COMPUTER VISION  : A+\\nSemester VIII  BIG DATA ANALYTICS  : A\\nSemester VIII  BUILDING WEB APPLICATIONS IN PHP (COURSERA)  : A+\\nSemester VIII  INFORMATION THEORY (COURSERA)  : A+\\nSemester VIII  COMMUNITY ENGAGEMENT (MENTORING SCHOOL STUDENTS)  : A+\\nOverall GPA 8.33/10\\nBachelors of Technology (Btech) Grades, Marks, Results, GPA')]\n"
     ]
    },
    {
     "name": "stderr",
     "output_type": "stream",
     "text": [
      "Multiple definitions in dictionary at byte 0x19b for key /Length\n",
      "Multiple definitions in dictionary at byte 0x606b8 for key /Length\n",
      "Multiple definitions in dictionary at byte 0x1790e for key /Length\n",
      "Multiple definitions in dictionary at byte 0x3fee5 for key /Length\n"
     ]
    }
   ],
   "source": [
    "for x in dir_list:\n",
    "    if (x.endswith(\".pdf\")):\n",
    "        doc=PyPDFLoader(path+\"//\"+x).load()\n",
    "        if (x!='BTech_Course_List.pdf'):\n",
    "            doc_chunks=r_splitter.split_documents(doc)\n",
    "        else:\n",
    "            print(doc)\n",
    "            chunks+=doc\n",
    "        chunks+=doc_chunks"
   ]
  },
  {
   "cell_type": "code",
   "execution_count": 106,
   "id": "ba8f18b8-7232-4b2b-9c34-5be9e3a7aaaf",
   "metadata": {},
   "outputs": [
    {
     "data": {
      "text/plain": [
       "389"
      ]
     },
     "execution_count": 106,
     "metadata": {},
     "output_type": "execute_result"
    }
   ],
   "source": [
    "len(chunks)"
   ]
  },
  {
   "cell_type": "code",
   "execution_count": null,
   "id": "2b6a40d6-9a81-4719-86ba-f91a5c052b56",
   "metadata": {},
   "outputs": [],
   "source": []
  },
  {
   "cell_type": "code",
   "execution_count": 34,
   "id": "cdf81b89-8abc-423d-8cbf-b112b0ae26be",
   "metadata": {},
   "outputs": [],
   "source": [
    "from langchain_google_genai.embeddings import GoogleGenerativeAIEmbeddings\n",
    "embeddings = GoogleGenerativeAIEmbeddings(model=\"models/text-embedding-004\")"
   ]
  },
  {
   "cell_type": "code",
   "execution_count": 107,
   "id": "c89a6cc5-bdf9-4abe-a614-912cea151be0",
   "metadata": {},
   "outputs": [],
   "source": [
    "vector_db=FAISS.from_documents(chunks, embeddings)"
   ]
  },
  {
   "cell_type": "code",
   "execution_count": 108,
   "id": "8732095f-bd13-4645-a0f3-9b79e0803f2c",
   "metadata": {},
   "outputs": [
    {
     "data": {
      "text/plain": [
       "[Document(metadata={'source': 'C:\\\\Users\\\\ASUS\\\\OneDrive\\\\Coding\\\\LnE Langchain\\\\RAG Documents//BTech_Course_List.pdf', 'page': 0}, page_content='Semester Course Title\\nSemester I   MATHEMATICS - I  : B+\\nSemester I   PHYSICS - I  : B\\nSemester I   BASIC ELECTRICAL ENGINEERING  : A+\\nSemester I   PROGRAMMING FUNDAMENTALS  : A+\\nSemester I   ENGINEERING GRAPHICS  : B+\\nSemester I   GERMAN  : B+\\nSemester II  MATHEMATICS - II  : C\\nSemester II  PHYSICS - II  : B+\\nSemester II  CHEMISTRY  : A\\nSemester II  BASIC MECHANICAL ENGINEERING  : A\\nSemester II  WORKSHOP PRACTICE  : B+\\nSemester II  INTRODUCTION TO ENVIRONMENTAL SCIENCE  : A\\nSemester III  DATA STRUCTURE  : A\\nSemester III  DISCRETE MATHEMATICS  : A+\\nSemester III  MATHEMATICS - III  : A+\\nSemester III  ENGINEERING ANALYSIS AND DESIGN (DIFFERENTIAL EQUATIONS AND APPLICATIONS) : B+\\nSemester III  PROBABILITY & STATISTICS  : A\\nSemester III  FINANCIAL STATEMENTS ANALYSIS  : A\\nSemester IV  ALGORITHM DESIGN & ANALYSIS  : A\\nSemester IV  REAL ANALYSIS  : A+\\nSemester IV  SCIENTIFIC COMPUTING  : A+\\nSemester IV  COMPUTER ORGANIZATION & ARCHITECTURE  : A+\\nSemester IV  LINEAR ALGEBRA  : A+\\nSemester IV  APPRECIATION OF SHORT STORIES  : O\\nSemester V  OPERATING SYSTEM  : A+\\nSemester V  STOCHASTIC PROCESSES  : A+\\nSemester V  FUNDAMENTALS OF MANAGEMENT  : A+\\nSemester V  OPERATIONS RESEARCH  : O\\nSemester V  OBJECT ORIENTED PROGRAMMING  : A+\\nSemester V  MACHINE LEARNING  : A\\nSemester VI  DATABASE MANAGEMENT SYSTEM  : A\\nSemester VI  THEORY OF COMPUTATION  : O\\nSemester VI  FINANCIAL ENGINEERING  : A\\nSemester VI  PATTERN RECOGNITION  : A\\nSemester VI  ARTIFICIAL INTELLIGENCE  : A\\nSemester VI  ENGINEERING ECONOMICS  : A+\\nSemester VII  B.TECH PROJECT-I  : A+\\nSemester VII  TRAINING SEMINAR  : O\\nSemester VII  DIGITAL IMAGE PROCESSING  : A\\nSemester VII  NATURAL LANGUAGE PROCESSING  : A\\nSemester VII  DATA WAREHOUSING & DATA MINING  : A+\\nSemester VII  THE BITS AND BYTES OF COMPUTER NETWORKING (COURSERA)  : A+\\nSemester VII  PRACTICAL TIME SERIES ANALYSIS (COURSERA)  : A+\\nSemester VIII  B. TECH. PROJECT-II  : A\\nSemester VIII  COMPUTER VISION  : A+\\nSemester VIII  BIG DATA ANALYTICS  : A\\nSemester VIII  BUILDING WEB APPLICATIONS IN PHP (COURSERA)  : A+\\nSemester VIII  INFORMATION THEORY (COURSERA)  : A+\\nSemester VIII  COMMUNITY ENGAGEMENT (MENTORING SCHOOL STUDENTS)  : A+\\nOverall GPA 8.33/10\\nBachelors of Technology (Btech) Grades, Marks, Results, GPA'),\n",
       " Document(metadata={'source': 'C:\\\\Users\\\\ASUS\\\\OneDrive\\\\Coding\\\\LnE Langchain\\\\RAG Documents//UoL MSc Transcript.pdf', 'page': 0}, page_content='Diploma Supplement and Transcript\\nVice-Chancellor and President University Secretary and Registrar\\nAnkon BhowmickName: Award: Master of Science\\nIdentification No: 201791639 Programme: Data Science and Analytics\\nDate of Birth: 17-Aug-2001 Classification: Pass with Merit\\nHESA No: 2311247916398 Date awarded:21-Nov-2024\\nDate of Admission:27-Sep-2023\\nDate of Leaving: 21-Nov-2024\\nStatus at Leaving: Successful completion of course\\nAcademic Transcript Results Level Credits ECTS\\nProgramme Year 1  MSc  Data Science and Analytics  2023/24  (Full-time study)\\nMCOMP 5122M 80 15 7.5Data Science\\nMCOMP 5625M 79 15 7.5Deep Learning\\nMCOMP 5712M 84 15 7.5Programming for Data Science\\nMLUBS 5308M 65 15 7.5Business Analytics and Decision Science\\nMLUBS 5990M 60 15 7.5Machine Learning in Practice\\nMMATH 5743M 68 15 7.5Statistical Learning\\nMMATH 5747M 66 15 7.5Learning Skills through Case Studies\\nMMATH 5802M 58 15 7.5Time Series and Spectral Analysis\\nMMATH 5872M 65 60 30Dissertation in Data Science and Analytics'),\n",
       " Document(metadata={'source': 'C:\\\\Users\\\\ASUS\\\\OneDrive\\\\Coding\\\\LnE Langchain\\\\RAG Documents//Ankon Bhowmick Resume.docx'}, page_content='Ankon Bhowmick\\n\\nankonbh@gmail.com \\t\\t\\t\\t\\t\\t\\t\\t\\t \\n\\n+447769472138\\n\\n+919667055306\\n\\nEducation       \\n\\nMSc Data Science and Analytics, University of Leeds, (2023 - 2024), Upper Second Class Honours\\n\\nB.Tech Mathematics and Computing, Delhi Technological University, (2019 - 2023), CGPA – 8.33 (83.3%)\\n\\nInternships\\n\\nPwC, Gurgaon, India, (June 2022 - August 2022)\\n\\nIntern/Trainee, Advisory- Technology Consulting\\n\\nCompleted company training programs to gain a basic understanding in SAP ERP technology.\\n\\nCollaborated with manager to perform an in-depth analysis of a substantial data dump containing over 50,000 SAP incident reports from a client company.\\n\\nImplemented advanced data analysis techniques and Python programming to explore the data which contained 30 features, identifying both positive trends and potential areas of concern.\\n\\nLeveraged newfound expertise to construct a decision tree model capable of predicting the possibility of successful resolution of incidents with an accuracy of 97.7%.')]"
      ]
     },
     "execution_count": 108,
     "metadata": {},
     "output_type": "execute_result"
    }
   ],
   "source": [
    "vector_db.similarity_search(\"What are his grades in BTech?\",k=3)"
   ]
  },
  {
   "cell_type": "code",
   "execution_count": 88,
   "id": "b30dc05e-e810-4a8b-945d-b14f2487a903",
   "metadata": {},
   "outputs": [],
   "source": [
    "vector_db.save_local(\"faiss_vector_db\")"
   ]
  },
  {
   "cell_type": "code",
   "execution_count": null,
   "id": "0b70605e-542d-4247-aac5-41386f70be8b",
   "metadata": {},
   "outputs": [],
   "source": []
  }
 ],
 "metadata": {
  "kernelspec": {
   "display_name": "Python 3 (ipykernel)",
   "language": "python",
   "name": "python3"
  },
  "language_info": {
   "codemirror_mode": {
    "name": "ipython",
    "version": 3
   },
   "file_extension": ".py",
   "mimetype": "text/x-python",
   "name": "python",
   "nbconvert_exporter": "python",
   "pygments_lexer": "ipython3",
   "version": "3.11.7"
  }
 },
 "nbformat": 4,
 "nbformat_minor": 5
}
