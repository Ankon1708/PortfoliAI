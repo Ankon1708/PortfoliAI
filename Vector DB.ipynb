{
 "cells": [
  {
   "cell_type": "code",
   "execution_count": 3,
   "id": "152bae07-4ae4-4a11-813a-0bc4ae1ae790",
   "metadata": {},
   "outputs": [],
   "source": [
    "from Keys import my_google_api_key\n",
    "import os\n",
    "os.environ[\"GOOGLE_API_KEY\"] = my_google_api_key"
   ]
  },
  {
   "cell_type": "code",
   "execution_count": 4,
   "id": "5944f415-2955-4bbf-bc15-981f5af31c5a",
   "metadata": {},
   "outputs": [],
   "source": [
    "path=\"C://Users//ASUS//Documents//Python Scripts//LnE Langchain//RAG Documents\"\n",
    "dir_list = os.listdir(path)"
   ]
  },
  {
   "cell_type": "code",
   "execution_count": 1,
   "id": "20c8f5ac-1c64-4a5f-8123-103870d24e89",
   "metadata": {},
   "outputs": [],
   "source": [
    "from langchain_community.document_loaders.word_document import UnstructuredWordDocumentLoader\n",
    "from langchain_community.document_loaders import PyPDFLoader \n",
    "from langchain import FAISS"
   ]
  },
  {
   "cell_type": "code",
   "execution_count": 5,
   "id": "4d31ef65-124b-45cf-a7db-2bfd99dc06aa",
   "metadata": {},
   "outputs": [
    {
     "name": "stderr",
     "output_type": "stream",
     "text": [
      "[nltk_data] Downloading package punkt to\n",
      "[nltk_data]     C:\\Users\\ASUS\\AppData\\Roaming\\nltk_data...\n",
      "[nltk_data]   Package punkt is already up-to-date!\n",
      "[nltk_data] Downloading package averaged_perceptron_tagger to\n",
      "[nltk_data]     C:\\Users\\ASUS\\AppData\\Roaming\\nltk_data...\n",
      "[nltk_data]   Package averaged_perceptron_tagger is already up-to-\n",
      "[nltk_data]       date!\n"
     ]
    },
    {
     "data": {
      "text/plain": [
       "True"
      ]
     },
     "execution_count": 5,
     "metadata": {},
     "output_type": "execute_result"
    }
   ],
   "source": [
    "import nltk\n",
    "nltk.download('punkt')\n",
    "nltk.download('averaged_perceptron_tagger')"
   ]
  },
  {
   "cell_type": "code",
   "execution_count": 7,
   "id": "1ad51646-b3c6-40fd-b9f9-12cd3fdc4d18",
   "metadata": {},
   "outputs": [],
   "source": [
    "from langchain.text_splitter import RecursiveCharacterTextSplitter\n",
    "r_splitter = RecursiveCharacterTextSplitter(\n",
    "    separators = [\"\\n\\n\", \"\\n\", \" \"],  \n",
    "    chunk_size = 1000, \n",
    "    chunk_overlap  = 100,\n",
    "    length_function = len)"
   ]
  },
  {
   "cell_type": "code",
   "execution_count": 16,
   "id": "9d114d2d-faf5-48f2-ae97-60c2884a6965",
   "metadata": {},
   "outputs": [],
   "source": [
    "chunks=[]"
   ]
  },
  {
   "cell_type": "code",
   "execution_count": 17,
   "id": "0727180d-af8e-4df8-a93b-7aaf44e22270",
   "metadata": {},
   "outputs": [],
   "source": [
    "for x in dir_list:\n",
    "    if x.endswith(\".docx\"):\n",
    "        doc=UnstructuredWordDocumentLoader(path+\"//\"+x).load()\n",
    "        doc_chunks=r_splitter.split_documents(doc)\n",
    "        chunks+=doc_chunks"
   ]
  },
  {
   "cell_type": "code",
   "execution_count": 19,
   "id": "f8061f26-38c5-4ddf-9c80-4564ae293e7d",
   "metadata": {},
   "outputs": [],
   "source": [
    "for x in dir_list:\n",
    "    if x.endswith(\".pdf\"):\n",
    "        doc=PyPDFLoader(path+\"//\"+x).load()\n",
    "        doc_chunks=r_splitter.split_documents(doc)\n",
    "        chunks+=doc_chunks"
   ]
  },
  {
   "cell_type": "code",
   "execution_count": 20,
   "id": "ba8f18b8-7232-4b2b-9c34-5be9e3a7aaaf",
   "metadata": {},
   "outputs": [
    {
     "data": {
      "text/plain": [
       "383"
      ]
     },
     "execution_count": 20,
     "metadata": {},
     "output_type": "execute_result"
    }
   ],
   "source": [
    "len(chunks)"
   ]
  },
  {
   "cell_type": "code",
   "execution_count": null,
   "id": "2b6a40d6-9a81-4719-86ba-f91a5c052b56",
   "metadata": {},
   "outputs": [],
   "source": []
  },
  {
   "cell_type": "code",
   "execution_count": 24,
   "id": "cdf81b89-8abc-423d-8cbf-b112b0ae26be",
   "metadata": {},
   "outputs": [],
   "source": [
    "from langchain_google_genai.embeddings import GoogleGenerativeAIEmbeddings\n",
    "embeddings = GoogleGenerativeAIEmbeddings(model=\"models/text-embedding-004\")"
   ]
  },
  {
   "cell_type": "code",
   "execution_count": 25,
   "id": "c89a6cc5-bdf9-4abe-a614-912cea151be0",
   "metadata": {},
   "outputs": [],
   "source": [
    "vector_db=FAISS.from_documents(chunks, embeddings)"
   ]
  },
  {
   "cell_type": "code",
   "execution_count": 28,
   "id": "b30dc05e-e810-4a8b-945d-b14f2487a903",
   "metadata": {},
   "outputs": [],
   "source": [
    "vector_db.save_local(\"faiss_vector_db\")"
   ]
  }
 ],
 "metadata": {
  "kernelspec": {
   "display_name": "Python 3 (ipykernel)",
   "language": "python",
   "name": "python3"
  },
  "language_info": {
   "codemirror_mode": {
    "name": "ipython",
    "version": 3
   },
   "file_extension": ".py",
   "mimetype": "text/x-python",
   "name": "python",
   "nbconvert_exporter": "python",
   "pygments_lexer": "ipython3",
   "version": "3.11.7"
  }
 },
 "nbformat": 4,
 "nbformat_minor": 5
}
