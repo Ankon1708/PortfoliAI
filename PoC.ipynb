{
 "cells": [
  {
   "cell_type": "markdown",
   "id": "a655e7ea-f579-41aa-a1d9-c787b16c6b39",
   "metadata": {},
   "source": [
    "## API and LLM"
   ]
  },
  {
   "cell_type": "code",
   "execution_count": 1,
   "id": "6e848cf8-d0db-4846-a0d9-284848c41d16",
   "metadata": {},
   "outputs": [],
   "source": [
    "from Keys import my_google_api_key\n",
    "import os\n",
    "os.environ[\"GOOGLE_API_KEY\"] = my_google_api_key"
   ]
  },
  {
   "cell_type": "code",
   "execution_count": 3,
   "id": "becbcb37-9f1d-44c0-97cd-3577f7563d76",
   "metadata": {},
   "outputs": [],
   "source": [
    "from langchain_google_genai import ChatGoogleGenerativeAI"
   ]
  },
  {
   "cell_type": "code",
   "execution_count": 4,
   "id": "ff8ffb60-f8a6-43c5-8a4d-56ec1102c0d1",
   "metadata": {},
   "outputs": [],
   "source": [
    "import langchain"
   ]
  },
  {
   "cell_type": "code",
   "execution_count": 5,
   "id": "1d5bbfb9-917c-4b6e-8e04-9f5237770de9",
   "metadata": {},
   "outputs": [],
   "source": [
    "llm = ChatGoogleGenerativeAI(\n",
    "    model=\"gemini-2.0-flash\",\n",
    "    temperature=0.5,\n",
    "    max_tokens=None,\n",
    "    timeout=None,\n",
    "    max_retries=2,\n",
    "    # other params...\n",
    ")"
   ]
  },
  {
   "cell_type": "markdown",
   "id": "aa089272-e181-49c1-a965-820ecb933545",
   "metadata": {},
   "source": [
    "## Text Loaders"
   ]
  },
  {
   "cell_type": "code",
   "execution_count": 6,
   "id": "348c3923-cee0-4e54-a73f-10ac0056d152",
   "metadata": {},
   "outputs": [],
   "source": [
    "from langchain_community.document_loaders import PyPDFLoader "
   ]
  },
  {
   "cell_type": "code",
   "execution_count": 7,
   "id": "c51d227e-5dc5-4a92-b645-abcca0439040",
   "metadata": {},
   "outputs": [],
   "source": [
    "from langchain_community.document_loaders.word_document import UnstructuredWordDocumentLoader"
   ]
  },
  {
   "cell_type": "code",
   "execution_count": 8,
   "id": "4ea1caee-6358-4c55-990e-84872e237b04",
   "metadata": {},
   "outputs": [
    {
     "name": "stderr",
     "output_type": "stream",
     "text": [
      "[nltk_data] Downloading package punkt to\n",
      "[nltk_data]     C:\\Users\\ASUS\\AppData\\Roaming\\nltk_data...\n",
      "[nltk_data]   Package punkt is already up-to-date!\n",
      "[nltk_data] Downloading package averaged_perceptron_tagger to\n",
      "[nltk_data]     C:\\Users\\ASUS\\AppData\\Roaming\\nltk_data...\n",
      "[nltk_data]   Package averaged_perceptron_tagger is already up-to-\n",
      "[nltk_data]       date!\n"
     ]
    },
    {
     "data": {
      "text/plain": [
       "True"
      ]
     },
     "execution_count": 8,
     "metadata": {},
     "output_type": "execute_result"
    }
   ],
   "source": [
    "import nltk\n",
    "nltk.download('punkt')\n",
    "nltk.download('averaged_perceptron_tagger')"
   ]
  },
  {
   "cell_type": "code",
   "execution_count": 9,
   "id": "e3b9ffda-fb25-4834-a87d-3850e818b17a",
   "metadata": {},
   "outputs": [],
   "source": [
    "CL_pdf=PyPDFLoader(\"Ankon Bhowmick Cover Letter.pdf\").load()"
   ]
  },
  {
   "cell_type": "code",
   "execution_count": 10,
   "id": "7663affe-5fe3-4da0-a4a9-7eaebb628d3b",
   "metadata": {
    "scrolled": true
   },
   "outputs": [
    {
     "data": {
      "text/plain": [
       "[Document(metadata={'source': 'Ankon Bhowmick Cover Letter.pdf', 'page': 0}, page_content='Dear Hiring Manager, \\nI am writing to express my interest in the Data Scientist at Gainwell Company. I hold an MSc in \\nData Science and Analytics from the University of Leeds and a BTech in Mathematics and \\nComputing from DTU. I bring strong technical skills in data analysis, machine learning, and NLP , \\nsupported by hands-on experience in Python, R, and SQL. \\nDuring my internship at PwC, I conducted a comprehensive analysis of over 50,000 SAP incident \\nrecords, identifying patterns and deploying a decision tree model that achieved 97.7% \\naccuracy. I modularized the code for team-wide use, reﬂecting my attention to both model \\nperformance and collaboration. \\nMy academic background includes diverse machine learning projects, such as building a BERT-\\nbased NLP classiﬁer on 32,000+ war-related news articles, creating CNN-RNN pipelines for \\nimage captioning, and training Random Forest and SVC models for ICO success prediction \\nusing feature engineering and ROC-AUC evaluation. I am actively learning NLP applications \\nusing LangChain such as building agentic LLM workﬂows using RAG.  \\nI am particularly excited about Gainwell’s mission to integrate LLMs and GenAI into the \\nhealthcare ecosystem and would be thrilled to contribute by building modular, intelligent \\napplications that serve real-world health and business needs. \\nThank you for considering my application. I look forward to the opportunity to bring my skills and \\npassion for applied AI to Gainwell’s innovative team. \\nSincerely, \\nAnkon Bhowmick \\n ')]"
      ]
     },
     "execution_count": 10,
     "metadata": {},
     "output_type": "execute_result"
    }
   ],
   "source": [
    "CL_pdf"
   ]
  },
  {
   "cell_type": "code",
   "execution_count": 11,
   "id": "1fe102d8-fe95-4810-8fbe-8b56cb0e126f",
   "metadata": {
    "scrolled": true
   },
   "outputs": [],
   "source": [
    "loader = UnstructuredWordDocumentLoader(\"Ankon Bhowmick Resume.docx\") \n",
    "doc = loader.load()"
   ]
  },
  {
   "cell_type": "code",
   "execution_count": 12,
   "id": "bdf3cf77-a681-4538-8a15-595b2fc372d3",
   "metadata": {
    "scrolled": true
   },
   "outputs": [
    {
     "data": {
      "text/plain": [
       "[Document(metadata={'source': 'Ankon Bhowmick Resume.docx'}, page_content=\"Ankon Bhowmick\\n\\nankonbh@gmail.com \\t\\t\\t\\t\\t\\t\\t\\t\\t \\n\\n+447769472138\\n\\n+919667055306\\n\\nEducation       \\n\\nMSc Data Science and Analytics, University of Leeds, (2023 - 2024), Upper Second Class Honours\\n\\nB.Tech Mathematics and Computing, Delhi Technological University, (2019 - 2023), CGPA – 8.33 (83.3%)\\n\\nInternships\\n\\nPwC, Gurgaon, India, (June 2022 - August 2022)\\n\\nIntern/Trainee, Advisory- Technology Consulting\\n\\nCompleted company training programs to gain a basic understanding in SAP ERP technology.\\n\\nCollaborated with manager to perform an in-depth analysis of a substantial data dump containing over 50,000 SAP incident reports from a client company.\\n\\nImplemented advanced data analysis techniques and Python programming to explore the data which contained 30 features, identifying both positive trends and potential areas of concern.\\n\\nLeveraged newfound expertise to construct a decision tree model capable of predicting the possibility of successful resolution of incidents with an accuracy of 97.7%.\\n\\nCertifications\\n\\nData Science Project-Based Learning and Internship Program Using R, Python Programming, And Tableau, StepUp Analytics, Online, (December 2020 - February 2021)\\n\\nMicrosoft Excel (Office 2019): Exam Reference #45320081\\n\\nSkills\\n\\nProgramming Languages: Python, R, SQL\\n\\nPython Libraries: Pandas, NumPy, Matplotlib, Seaborn, Scikit-learn, Transformers, OpenCV, PyTorch, TensorFlow\\n\\nR Libraries: dplyr, ggplot2, caret, glm, rpart, timeSeries, rstanarm\\n\\nML Algorithms: Linear Regression, Logistic Regression, KNN, Decision Trees, Naïve Bayes, K-Means, DBSCAN, Random Forest, PCA, Multi-level Regression\\n\\nDeep Learning: CNN, RNN, LSTM\\n\\nNLP: Text Preprocessing, Embeddings, Vector Database (FAISS), BERT (HuggingFace), GenAI (LangChain)\\n\\nOther Relevant Coursework: Time Series, Business Analytics, Data Structures & Algorithms\\n\\nAcademic Projects\\n\\nPredicting the Course of the Russo-Ukrainian War:\\n\\nCollected data through web scraping using Selenium and Beautiful Soup packages in Python. Scraped over 1300 articles of the Russo-Georgian war and 32000 articles of the Russo-Ukrainian war by Russian state news agency TASS.\\n\\nPreprocessed articles using tokenisation to created model suitable input. Stored data in the form of Tensor datasets and then Pytorch dataloaders.\\n\\nLeveraged Hugging Face’s Transformers library to fine-tune BERT, optimizing hyperparameters for enhanced model accuracy in text classification of news articles into war-intensity categories. Trained BERT on news articles from the 2008 Russo-Georgian war.\\n\\nPredicted war-intensity for articles of the Russo-Ukrainian war to create a fabricated timeline for the purpose of analysing and understanding Russian war actions.\\n\\nUsing Markov Chain Monte Carlo to Predict Average Resting Heart Rate:\\n\\n\\n\\nImplemented Markov Chain Monte Carlo (MCMC) model for analysing resting heart rate data. Collected personal heart rate data over a period of 124 days using a Samsung fitness tracker.\\n\\nFocused on the parameter of interest, µ, utilizing the Metropolis-Hastings Algorithm.\\n\\nConstructed a posterior distribution and estimated the mean of Daily Average Resting Heart Rate (DARHR).\\n\\nBuilt a categorical probability distribution for defined health fitness levels on the basis of heart rate.\\n\\nBuilding a Quantitative Momentum Investing Model:\\n\\nDeveloped an investment model constructing portfolios with a Quantitative Momentum Investing strategy on NIFTY50.\\n\\nEstablished a data pipeline using pandas and NumPy for cleaning, transforming, and integrating data from individual company data files.\\n\\nProcessed data through the investment model to create portfolios.\\n\\nUnderstanding Players’ Environmental Perception in a Game Environment\\n\\nAnalysis of environmental perception of 640 players of Animal Crossing: New Horizons across 29 countries. Achieved 72.9% accuracy in predicting environmental perception based on socio-demographic features.\\n\\nConducted data quality checks to ensure consistency and accuracy, identifying missing data patterns and format inconsistencies.\\n\\nExplored correlations between in-game behaviour, socio-demographic features, and environmental perceptions. Developed a classification model to predict player's environmental perception based on socio-demographic variables.\\n\\nConducted model selection process involving random forest, logistic regression, and Naïve Bayes using Scikit-learn, and decided on Random Forest based on higher evaluation metric scores.\\n\\nImage classification using CNN and Image Captioning using RNN:\\n\\nConstructed basic NN and CNN classification models using TensorFlow and PyTorch. Trained models on TinyImageNet30 dataset, which contained 450 images each for 30 classes of images.\\n\\nConfigured the best performing model and tackled overfitting by using data augmentation, dropout, hyper-parameter tuning and optimising evaluation metrics such as accuracy, loss, and ROC-AUC curves.\\n\\nImplemented transfer learning by fine-tuning previously designed and trained model on CIFAR10 dataset, explored effect of freezing of layers of model on fine-tuning.\\n\\nBuilt an encoder-decoder architecture-based model to generate captions for images. Constructed an encoder network to convert images into feature vectors, and a decoder network to create captions using encoded vectors.\\n\\nE-commerce Insights and Analysis Project\\n\\nThe project focused on enhancing business strategies and optimising customer-centric approaches by analysing the interaction between marketing, discounting and customer behaviour.\\n\\nAnalysed year-long data on the effect of marketing expenditure and discount rates on over 50,000 online sales transactions.\\n\\nConducted extensive data merging on discount rates data over 17 product categories and online sales data.\\n\\nVisualised the proportion of discount against actual sales by month after exhaustive data cleaning and manipulation.\\n\\nModelled monthly online sales against respective marketing expenditure as a linear relationship to achieve understanding of the effectiveness of marketing.\\n\\nMulti-criteria Decision Analysis and Customer Value\\n\\nOptimized resource allocation for an autonomous delivery trial by applying Weighted Sum Method (WSM), increasing prototype utility by 21% compared to alternatives.\\n\\nEnhanced operational efficiency by utilising linear programming to optimize the allocation of delivery robots to stores, maximizing order processing capacity within a strict budget of £250,000.\\n\\nConducted comprehensive data analysis on consumer behaviour for a UK beverage company, providing actionable insights that improved targeted marketing strategies, driving a significant increase in customer engagement.\\n\\nAnalysed customer data to identify key drivers of revenue, leading to a measurable increase in revenue by focusing on statistically significant factors such as customer income and voucher exposure.\\n\\nImplementation And Analysis of Lagrange’s Interpolation and Newton’s Divided Difference Formula:\\n\\nImplemented Lagrange’s Interpolation and Newton’s Divided Difference Formula on MATLAB.\\n\\nComparatively analysed the time and space complexity of each algorithm.\\n\\nScrutinised the effect of addition of new data points to deduce the performatively better algorithm.\\n\\nPredicting the success of an ICO:\\n\\nConducted predictive modelling of ICO success using Random Forest Classifier (RFC) and Support Vector Classifier (SVC) models, achieving an accuracy of 63.8% and 62.3%, respectively.\\n\\n\\n\\nUtilized data transformation techniques such as feature engineering on datetime variables, frequency-based grouping for categorical variables, and one hot encoding to prepare an effective dataset for modelling.\\n\\nOptimised modelling performance through fine-tuning hyperparameters such as size of training subset and number of decision trees in RFC, and kernel function and regularisation parameter for SVC.\\n\\nEnhanced model evaluation by analysing key metrics such as precision, recall, and F1-score. Applied ROC-AUC analysis to assess model performance, with RFC and SVC achieving competitive AUC scores, indicating strong class distinction capabilities.\\n\\nEstimating Public Opinion on Gun Legislation using MRP:\\n\\nEstimated public opinion on a ban on assault rifles in the US at the state level using a singular national survey.\\n\\nCollected survey data and population data and conducted data cleaning, transformation, and data matching to created input dataset and poststratification frame respectively using the Python packages Pandas and NumPy.\\n\\nModelled hierarchical relationships between individual-level and group-level predictors using rstanarm package in R and analysed interactions and state-level predictors using posterior distributions.\\n\\nValidated model performance using split sample validation and disaggregation for varying MRP sample sizes. Evaluated model performance using MAE, Correlation, and WAIC.\\n\\nPoststratified for final state-wise predictions of percentage opposition to a ban on assault rifles. Presented results using matplotlib in Python and ggplot2 in R.\\n\\nTime Series Forecasting:\\n\\nDeveloped a predictive ARIMA model to forecast the number of slaves transported on British ships from 1654 to 1807, achieving robust model performance through trend and seasonality removal, order determination for ARIMA modelling and periodogram analysis.\\n\\nApplied time series decomposition techniques including linear trend removal and log transformations to stabilize variance and ensure stationarity for accurate predictions.\\n\\nUtilized autocorrelation (ACF) and partial autocorrelation (PACF) plots to determine optimal lag orders, identifying an AR(1) model as the best fit based on Yule-Walker equations and statistical diagnostics.\\n\\nImplemented forecasting for future values (1808-1812) using ARIMA, projecting a resurgence in the number of voyages with an estimated peak in 1812 using trend-reintegration and reverse AR predictions.\\n\\nPerformed residual diagnostics and periodogram analysis to assess model accuracy and periodicity in the data, ensuring the forecast aligned with historical trends.\\n\\nBehavioural example:\\n\\nA challenging situation arose during the third year of my bachelor’s degree, when a dear friend and my project partner across multiple courses faced an acute health issue. Despite the intense hardship, my project partner endured with the work at hand. Our clear communication allowed us to collaborate seamlessly. His dedication to work even in the face of injury drove me to see through our work when he required extended periods of rest. We were able to effectively cooperate on all our projects; our definitive accord on workload handling and time management ensured solid results.\")]"
      ]
     },
     "execution_count": 12,
     "metadata": {},
     "output_type": "execute_result"
    }
   ],
   "source": [
    "doc"
   ]
  },
  {
   "cell_type": "markdown",
   "id": "0dd81286-0cce-4801-93ae-b94ccebf363f",
   "metadata": {},
   "source": [
    "## Text Splitting"
   ]
  },
  {
   "cell_type": "code",
   "execution_count": 13,
   "id": "ba95d67d-817d-42f4-9ed0-2b8ed833c03d",
   "metadata": {},
   "outputs": [],
   "source": [
    "from langchain.text_splitter import RecursiveCharacterTextSplitter"
   ]
  },
  {
   "cell_type": "code",
   "execution_count": 14,
   "id": "cf558f16-eb76-428f-9d97-c082c38fcb1a",
   "metadata": {},
   "outputs": [],
   "source": [
    "r_splitter = RecursiveCharacterTextSplitter(\n",
    "    separators = [\"\\n\\n\", \"\\n\", \" \"],  \n",
    "    chunk_size = 1000, \n",
    "    chunk_overlap  = 100,\n",
    "    length_function = len)"
   ]
  },
  {
   "cell_type": "code",
   "execution_count": 15,
   "id": "5bfa691f-b970-4b23-8e12-410e35014788",
   "metadata": {},
   "outputs": [],
   "source": [
    "chunks_tx=r_splitter.split_text(doc[0].page_content)"
   ]
  },
  {
   "cell_type": "code",
   "execution_count": 18,
   "id": "57169669-a514-46af-a1fd-40007741f5cb",
   "metadata": {
    "scrolled": true
   },
   "outputs": [
    {
     "data": {
      "text/plain": [
       "12"
      ]
     },
     "execution_count": 18,
     "metadata": {},
     "output_type": "execute_result"
    }
   ],
   "source": [
    "len(chunks_tx)"
   ]
  },
  {
   "cell_type": "code",
   "execution_count": 19,
   "id": "6e26fd2f-660c-470b-9825-9c67545f5a69",
   "metadata": {},
   "outputs": [],
   "source": [
    "from langchain_google_genai.embeddings import GoogleGenerativeAIEmbeddings"
   ]
  },
  {
   "cell_type": "code",
   "execution_count": 20,
   "id": "c8a93933-f86c-4293-956c-265a21222cf6",
   "metadata": {},
   "outputs": [],
   "source": [
    "embeddings = GoogleGenerativeAIEmbeddings(model=\"models/text-embedding-004\")"
   ]
  },
  {
   "cell_type": "code",
   "execution_count": 22,
   "id": "822fcadf-1679-4900-81d6-0ac94b19bf73",
   "metadata": {},
   "outputs": [],
   "source": [
    "import numpy as np"
   ]
  },
  {
   "cell_type": "code",
   "execution_count": 23,
   "id": "649cd044-11be-4847-9198-dd493a447996",
   "metadata": {
    "scrolled": true
   },
   "outputs": [],
   "source": [
    "my_emb=np.asarray(embeddings.embed_documents(texts=chunks_tx))"
   ]
  },
  {
   "cell_type": "code",
   "execution_count": 24,
   "id": "2fcad3e1-c376-4d8a-be9e-b729e23de859",
   "metadata": {},
   "outputs": [
    {
     "data": {
      "text/plain": [
       "(12, 768)"
      ]
     },
     "execution_count": 24,
     "metadata": {},
     "output_type": "execute_result"
    }
   ],
   "source": [
    "my_emb.shape"
   ]
  },
  {
   "cell_type": "code",
   "execution_count": 25,
   "id": "cf5ab72c-66eb-49e2-8285-62f8cb3c6ac0",
   "metadata": {},
   "outputs": [
    {
     "name": "stdout",
     "output_type": "stream",
     "text": [
      "True\n",
      "12\n"
     ]
    }
   ],
   "source": [
    "import faiss                   # make faiss available\n",
    "index = faiss.IndexFlatL2(768)   # build the index\n",
    "print(index.is_trained)\n",
    "index.add(my_emb)                 # add vectors to the index\n",
    "print(index.ntotal)"
   ]
  },
  {
   "cell_type": "code",
   "execution_count": 26,
   "id": "95550f16-8e02-4e36-8106-5afaea6b33c8",
   "metadata": {},
   "outputs": [],
   "source": [
    "my_query=\"What did he do at PwC?\"\n",
    "q_emb=np.asarray(embeddings.embed_documents(texts=[my_query]))"
   ]
  },
  {
   "cell_type": "code",
   "execution_count": 27,
   "id": "cc4e1635-d9c4-4920-ab20-d2c85a204219",
   "metadata": {
    "scrolled": true
   },
   "outputs": [],
   "source": [
    "D, I = index.search(q_emb,3)"
   ]
  },
  {
   "cell_type": "code",
   "execution_count": 28,
   "id": "6d4cce3e-6a1b-45a4-a84e-54b13507e128",
   "metadata": {},
   "outputs": [
    {
     "data": {
      "text/plain": [
       "array([[0.49475658, 0.5495293 , 0.5527823 ]], dtype=float32)"
      ]
     },
     "execution_count": 28,
     "metadata": {},
     "output_type": "execute_result"
    }
   ],
   "source": [
    "D"
   ]
  },
  {
   "cell_type": "code",
   "execution_count": 29,
   "id": "12a05f36-187e-416a-bdf0-e6a685d29b5a",
   "metadata": {},
   "outputs": [
    {
     "data": {
      "text/plain": [
       "array([[ 1,  7, 11]], dtype=int64)"
      ]
     },
     "execution_count": 29,
     "metadata": {},
     "output_type": "execute_result"
    }
   ],
   "source": [
    "I"
   ]
  },
  {
   "cell_type": "code",
   "execution_count": 30,
   "id": "9fc9f338-5dbb-4d89-9302-90e2c66b5fb2",
   "metadata": {},
   "outputs": [],
   "source": [
    "from langchain.chains import RetrievalQAWithSourcesChain\n",
    "from langchain.chains.qa_with_sources.loading import load_qa_with_sources_chain\n",
    "from langchain.vectorstores import FAISS"
   ]
  },
  {
   "cell_type": "markdown",
   "id": "36b46ca7-f514-4fb8-b63e-5cdffaa19a1c",
   "metadata": {},
   "source": [
    "## Using Langchain FAISS"
   ]
  },
  {
   "cell_type": "code",
   "execution_count": 38,
   "id": "1484420f-536a-4841-82c4-5eefbb556fb4",
   "metadata": {},
   "outputs": [],
   "source": [
    "chunks_doc=r_splitter.split_documents(doc)+r_splitter.split_documents(CL_pdf)"
   ]
  },
  {
   "cell_type": "code",
   "execution_count": 40,
   "id": "39a10036-c4cc-49f3-80d2-438a32431c72",
   "metadata": {},
   "outputs": [],
   "source": [
    "my_vecInd=FAISS.from_documents(chunks_doc, embeddings)"
   ]
  },
  {
   "cell_type": "code",
   "execution_count": 60,
   "id": "4829de6b-0ef7-42bf-8e59-9aca08121bd5",
   "metadata": {},
   "outputs": [
    {
     "data": {
      "text/plain": [
       "<langchain_community.vectorstores.faiss.FAISS at 0x1b376fe36d0>"
      ]
     },
     "execution_count": 60,
     "metadata": {},
     "output_type": "execute_result"
    }
   ],
   "source": [
    "my_vecInd"
   ]
  },
  {
   "cell_type": "code",
   "execution_count": 41,
   "id": "5ffecb58-b4f1-4ec4-b656-ed6907379615",
   "metadata": {},
   "outputs": [],
   "source": [
    "chain = RetrievalQAWithSourcesChain.from_llm(llm=llm, retriever=my_vecInd.as_retriever())"
   ]
  },
  {
   "cell_type": "code",
   "execution_count": 61,
   "id": "1f8ac951-d3a9-4fd5-adc9-9dfe5e6f4bb1",
   "metadata": {},
   "outputs": [],
   "source": [
    "my_query=\"What did he do at PwC?\""
   ]
  },
  {
   "cell_type": "code",
   "execution_count": 62,
   "id": "42af59b2-246b-49f4-9c6e-0f646ce50882",
   "metadata": {
    "scrolled": true
   },
   "outputs": [
    {
     "name": "stdout",
     "output_type": "stream",
     "text": [
      "\u001b[32;1m\u001b[1;3m[chain/start]\u001b[0m \u001b[1m[chain:RetrievalQAWithSourcesChain] Entering Chain run with input:\n",
      "\u001b[0m{\n",
      "  \"question\": \"What did he do at PwC?\"\n",
      "}\n",
      "\u001b[32;1m\u001b[1;3m[chain/start]\u001b[0m \u001b[1m[chain:RetrievalQAWithSourcesChain > chain:MapReduceDocumentsChain] Entering Chain run with input:\n",
      "\u001b[0m[inputs]\n",
      "\u001b[32;1m\u001b[1;3m[chain/start]\u001b[0m \u001b[1m[chain:RetrievalQAWithSourcesChain > chain:MapReduceDocumentsChain > chain:LLMChain] Entering Chain run with input:\n",
      "\u001b[0m{\n",
      "  \"input_list\": [\n",
      "    {\n",
      "      \"context\": \"Ankon Bhowmick\\n\\nankonbh@gmail.com \\t\\t\\t\\t\\t\\t\\t\\t\\t \\n\\n+447769472138\\n\\n+919667055306\\n\\nEducation       \\n\\nMSc Data Science and Analytics, University of Leeds, (2023 - 2024), Upper Second Class Honours\\n\\nB.Tech Mathematics and Computing, Delhi Technological University, (2019 - 2023), CGPA – 8.33 (83.3%)\\n\\nInternships\\n\\nPwC, Gurgaon, India, (June 2022 - August 2022)\\n\\nIntern/Trainee, Advisory- Technology Consulting\\n\\nCompleted company training programs to gain a basic understanding in SAP ERP technology.\\n\\nCollaborated with manager to perform an in-depth analysis of a substantial data dump containing over 50,000 SAP incident reports from a client company.\\n\\nImplemented advanced data analysis techniques and Python programming to explore the data which contained 30 features, identifying both positive trends and potential areas of concern.\\n\\nLeveraged newfound expertise to construct a decision tree model capable of predicting the possibility of successful resolution of incidents with an accuracy of 97.7%.\",\n",
      "      \"question\": \"What did he do at PwC?\"\n",
      "    },\n",
      "    {\n",
      "      \"context\": \"Dear Hiring Manager, \\nI am writing to express my interest in the Data Scientist at Gainwell Company. I hold an MSc in \\nData Science and Analytics from the University of Leeds and a BTech in Mathematics and \\nComputing from DTU. I bring strong technical skills in data analysis, machine learning, and NLP , \\nsupported by hands-on experience in Python, R, and SQL. \\nDuring my internship at PwC, I conducted a comprehensive analysis of over 50,000 SAP incident \\nrecords, identifying patterns and deploying a decision tree model that achieved 97.7% \\naccuracy. I modularized the code for team-wide use, reﬂecting my attention to both model \\nperformance and collaboration. \\nMy academic background includes diverse machine learning projects, such as building a BERT-\\nbased NLP classiﬁer on 32,000+ war-related news articles, creating CNN-RNN pipelines for \\nimage captioning, and training Random Forest and SVC models for ICO success prediction\",\n",
      "      \"question\": \"What did he do at PwC?\"\n",
      "    },\n",
      "    {\n",
      "      \"context\": \"Enhanced operational efficiency by utilising linear programming to optimize the allocation of delivery robots to stores, maximizing order processing capacity within a strict budget of £250,000.\\n\\nConducted comprehensive data analysis on consumer behaviour for a UK beverage company, providing actionable insights that improved targeted marketing strategies, driving a significant increase in customer engagement.\\n\\nAnalysed customer data to identify key drivers of revenue, leading to a measurable increase in revenue by focusing on statistically significant factors such as customer income and voucher exposure.\\n\\nImplementation And Analysis of Lagrange’s Interpolation and Newton’s Divided Difference Formula:\\n\\nImplemented Lagrange’s Interpolation and Newton’s Divided Difference Formula on MATLAB.\\n\\nComparatively analysed the time and space complexity of each algorithm.\\n\\nScrutinised the effect of addition of new data points to deduce the performatively better algorithm.\",\n",
      "      \"question\": \"What did he do at PwC?\"\n",
      "    },\n",
      "    {\n",
      "      \"context\": \"Certifications\\n\\nData Science Project-Based Learning and Internship Program Using R, Python Programming, And Tableau, StepUp Analytics, Online, (December 2020 - February 2021)\\n\\nMicrosoft Excel (Office 2019): Exam Reference #45320081\\n\\nSkills\\n\\nProgramming Languages: Python, R, SQL\\n\\nPython Libraries: Pandas, NumPy, Matplotlib, Seaborn, Scikit-learn, Transformers, OpenCV, PyTorch, TensorFlow\\n\\nR Libraries: dplyr, ggplot2, caret, glm, rpart, timeSeries, rstanarm\\n\\nML Algorithms: Linear Regression, Logistic Regression, KNN, Decision Trees, Naïve Bayes, K-Means, DBSCAN, Random Forest, PCA, Multi-level Regression\\n\\nDeep Learning: CNN, RNN, LSTM\\n\\nNLP: Text Preprocessing, Embeddings, Vector Database (FAISS), BERT (HuggingFace), GenAI (LangChain)\\n\\nOther Relevant Coursework: Time Series, Business Analytics, Data Structures & Algorithms\\n\\nAcademic Projects\\n\\nPredicting the Course of the Russo-Ukrainian War:\",\n",
      "      \"question\": \"What did he do at PwC?\"\n",
      "    }\n",
      "  ]\n",
      "}\n",
      "\u001b[32;1m\u001b[1;3m[llm/start]\u001b[0m \u001b[1m[chain:RetrievalQAWithSourcesChain > chain:MapReduceDocumentsChain > chain:LLMChain > llm:ChatGoogleGenerativeAI] Entering LLM run with input:\n",
      "\u001b[0m{\n",
      "  \"prompts\": [\n",
      "    \"Human: Use the following portion of a long document to see if any of the text is relevant to answer the question. \\nReturn any relevant text verbatim.\\nAnkon Bhowmick\\n\\nankonbh@gmail.com \\t\\t\\t\\t\\t\\t\\t\\t\\t \\n\\n+447769472138\\n\\n+919667055306\\n\\nEducation       \\n\\nMSc Data Science and Analytics, University of Leeds, (2023 - 2024), Upper Second Class Honours\\n\\nB.Tech Mathematics and Computing, Delhi Technological University, (2019 - 2023), CGPA – 8.33 (83.3%)\\n\\nInternships\\n\\nPwC, Gurgaon, India, (June 2022 - August 2022)\\n\\nIntern/Trainee, Advisory- Technology Consulting\\n\\nCompleted company training programs to gain a basic understanding in SAP ERP technology.\\n\\nCollaborated with manager to perform an in-depth analysis of a substantial data dump containing over 50,000 SAP incident reports from a client company.\\n\\nImplemented advanced data analysis techniques and Python programming to explore the data which contained 30 features, identifying both positive trends and potential areas of concern.\\n\\nLeveraged newfound expertise to construct a decision tree model capable of predicting the possibility of successful resolution of incidents with an accuracy of 97.7%.\\nQuestion: What did he do at PwC?\\nRelevant text, if any:\"\n",
      "  ]\n",
      "}\n",
      "\u001b[32;1m\u001b[1;3m[llm/start]\u001b[0m \u001b[1m[chain:RetrievalQAWithSourcesChain > chain:MapReduceDocumentsChain > chain:LLMChain > llm:ChatGoogleGenerativeAI] Entering LLM run with input:\n",
      "\u001b[0m{\n",
      "  \"prompts\": [\n",
      "    \"Human: Use the following portion of a long document to see if any of the text is relevant to answer the question. \\nReturn any relevant text verbatim.\\nDear Hiring Manager, \\nI am writing to express my interest in the Data Scientist at Gainwell Company. I hold an MSc in \\nData Science and Analytics from the University of Leeds and a BTech in Mathematics and \\nComputing from DTU. I bring strong technical skills in data analysis, machine learning, and NLP , \\nsupported by hands-on experience in Python, R, and SQL. \\nDuring my internship at PwC, I conducted a comprehensive analysis of over 50,000 SAP incident \\nrecords, identifying patterns and deploying a decision tree model that achieved 97.7% \\naccuracy. I modularized the code for team-wide use, reﬂecting my attention to both model \\nperformance and collaboration. \\nMy academic background includes diverse machine learning projects, such as building a BERT-\\nbased NLP classiﬁer on 32,000+ war-related news articles, creating CNN-RNN pipelines for \\nimage captioning, and training Random Forest and SVC models for ICO success prediction\\nQuestion: What did he do at PwC?\\nRelevant text, if any:\"\n",
      "  ]\n",
      "}\n",
      "\u001b[32;1m\u001b[1;3m[llm/start]\u001b[0m \u001b[1m[chain:RetrievalQAWithSourcesChain > chain:MapReduceDocumentsChain > chain:LLMChain > llm:ChatGoogleGenerativeAI] Entering LLM run with input:\n",
      "\u001b[0m{\n",
      "  \"prompts\": [\n",
      "    \"Human: Use the following portion of a long document to see if any of the text is relevant to answer the question. \\nReturn any relevant text verbatim.\\nEnhanced operational efficiency by utilising linear programming to optimize the allocation of delivery robots to stores, maximizing order processing capacity within a strict budget of £250,000.\\n\\nConducted comprehensive data analysis on consumer behaviour for a UK beverage company, providing actionable insights that improved targeted marketing strategies, driving a significant increase in customer engagement.\\n\\nAnalysed customer data to identify key drivers of revenue, leading to a measurable increase in revenue by focusing on statistically significant factors such as customer income and voucher exposure.\\n\\nImplementation And Analysis of Lagrange’s Interpolation and Newton’s Divided Difference Formula:\\n\\nImplemented Lagrange’s Interpolation and Newton’s Divided Difference Formula on MATLAB.\\n\\nComparatively analysed the time and space complexity of each algorithm.\\n\\nScrutinised the effect of addition of new data points to deduce the performatively better algorithm.\\nQuestion: What did he do at PwC?\\nRelevant text, if any:\"\n",
      "  ]\n",
      "}\n",
      "\u001b[32;1m\u001b[1;3m[llm/start]\u001b[0m \u001b[1m[chain:RetrievalQAWithSourcesChain > chain:MapReduceDocumentsChain > chain:LLMChain > llm:ChatGoogleGenerativeAI] Entering LLM run with input:\n",
      "\u001b[0m{\n",
      "  \"prompts\": [\n",
      "    \"Human: Use the following portion of a long document to see if any of the text is relevant to answer the question. \\nReturn any relevant text verbatim.\\nCertifications\\n\\nData Science Project-Based Learning and Internship Program Using R, Python Programming, And Tableau, StepUp Analytics, Online, (December 2020 - February 2021)\\n\\nMicrosoft Excel (Office 2019): Exam Reference #45320081\\n\\nSkills\\n\\nProgramming Languages: Python, R, SQL\\n\\nPython Libraries: Pandas, NumPy, Matplotlib, Seaborn, Scikit-learn, Transformers, OpenCV, PyTorch, TensorFlow\\n\\nR Libraries: dplyr, ggplot2, caret, glm, rpart, timeSeries, rstanarm\\n\\nML Algorithms: Linear Regression, Logistic Regression, KNN, Decision Trees, Naïve Bayes, K-Means, DBSCAN, Random Forest, PCA, Multi-level Regression\\n\\nDeep Learning: CNN, RNN, LSTM\\n\\nNLP: Text Preprocessing, Embeddings, Vector Database (FAISS), BERT (HuggingFace), GenAI (LangChain)\\n\\nOther Relevant Coursework: Time Series, Business Analytics, Data Structures & Algorithms\\n\\nAcademic Projects\\n\\nPredicting the Course of the Russo-Ukrainian War:\\nQuestion: What did he do at PwC?\\nRelevant text, if any:\"\n",
      "  ]\n",
      "}\n",
      "\u001b[36;1m\u001b[1;3m[llm/end]\u001b[0m \u001b[1m[chain:RetrievalQAWithSourcesChain > chain:MapReduceDocumentsChain > chain:LLMChain > llm:ChatGoogleGenerativeAI] [4.40s] Exiting LLM run with output:\n",
      "\u001b[0m{\n",
      "  \"generations\": [\n",
      "    [\n",
      "      {\n",
      "        \"text\": \"PwC, Gurgaon, India, (June 2022 - August 2022)\\n\\nIntern/Traineinee, Advisory- Technology Consulting\\n\\nCompleted company training programs to gain a basic understanding in SAP ERP technology.\\n\\nCollaborated with manager to perform an in-depth analysis of a substantial data dump containing over 50,000 SAP incident reports from a client company.\\n\\nImplemented advanced data analysis techniques and Python programming to explore the data which contained 30 features, identifying both positive trends and potential areas of concern.\\n\\nLeveraged newfound expertise to construct a decision tree model capable of predicting the possibility of successful resolution of incidents with an accuracy of 97.7%.\",\n",
      "        \"generation_info\": {\n",
      "          \"finish_reason\": \"STOP\",\n",
      "          \"model_name\": \"gemini-2.0-flash\",\n",
      "          \"safety_ratings\": []\n",
      "        },\n",
      "        \"type\": \"ChatGeneration\",\n",
      "        \"message\": {\n",
      "          \"lc\": 1,\n",
      "          \"type\": \"constructor\",\n",
      "          \"id\": [\n",
      "            \"langchain\",\n",
      "            \"schema\",\n",
      "            \"messages\",\n",
      "            \"AIMessage\"\n",
      "          ],\n",
      "          \"kwargs\": {\n",
      "            \"content\": \"PwC, Gurgaon, India, (June 2022 - August 2022)\\n\\nIntern/Traineinee, Advisory- Technology Consulting\\n\\nCompleted company training programs to gain a basic understanding in SAP ERP technology.\\n\\nCollaborated with manager to perform an in-depth analysis of a substantial data dump containing over 50,000 SAP incident reports from a client company.\\n\\nImplemented advanced data analysis techniques and Python programming to explore the data which contained 30 features, identifying both positive trends and potential areas of concern.\\n\\nLeveraged newfound expertise to construct a decision tree model capable of predicting the possibility of successful resolution of incidents with an accuracy of 97.7%.\",\n",
      "            \"response_metadata\": {\n",
      "              \"prompt_feedback\": {\n",
      "                \"block_reason\": 0,\n",
      "                \"safety_ratings\": []\n",
      "              },\n",
      "              \"finish_reason\": \"STOP\",\n",
      "              \"model_name\": \"gemini-2.0-flash\",\n",
      "              \"safety_ratings\": []\n",
      "            },\n",
      "            \"type\": \"ai\",\n",
      "            \"id\": \"run--79410fa0-b684-4296-977c-afa1ed2afddf-0\",\n",
      "            \"usage_metadata\": {\n",
      "              \"input_tokens\": 305,\n",
      "              \"output_tokens\": 144,\n",
      "              \"total_tokens\": 449,\n",
      "              \"input_token_details\": {\n",
      "                \"cache_read\": 0\n",
      "              }\n",
      "            },\n",
      "            \"tool_calls\": [],\n",
      "            \"invalid_tool_calls\": []\n",
      "          }\n",
      "        }\n",
      "      }\n",
      "    ]\n",
      "  ],\n",
      "  \"llm_output\": {\n",
      "    \"prompt_feedback\": {\n",
      "      \"block_reason\": 0,\n",
      "      \"safety_ratings\": []\n",
      "    }\n",
      "  },\n",
      "  \"run\": null,\n",
      "  \"type\": \"LLMResult\"\n",
      "}\n",
      "\u001b[36;1m\u001b[1;3m[llm/end]\u001b[0m \u001b[1m[chain:RetrievalQAWithSourcesChain > chain:MapReduceDocumentsChain > chain:LLMChain > llm:ChatGoogleGenerativeAI] [4.40s] Exiting LLM run with output:\n",
      "\u001b[0m{\n",
      "  \"generations\": [\n",
      "    [\n",
      "      {\n",
      "        \"text\": \"During my internship at PwC, I conducted a comprehensive analysis of over 50,000 SAP incident \\nrecords, identifying patterns and deploying a decision tree model that achieved 97.7% \\naccuracy. I modularized the code for team-wide use, reﬂecting my attention to both model \\nperformance and collaboration.\",\n",
      "        \"generation_info\": {\n",
      "          \"finish_reason\": \"STOP\",\n",
      "          \"model_name\": \"gemini-2.0-flash\",\n",
      "          \"safety_ratings\": []\n",
      "        },\n",
      "        \"type\": \"ChatGeneration\",\n",
      "        \"message\": {\n",
      "          \"lc\": 1,\n",
      "          \"type\": \"constructor\",\n",
      "          \"id\": [\n",
      "            \"langchain\",\n",
      "            \"schema\",\n",
      "            \"messages\",\n",
      "            \"AIMessage\"\n",
      "          ],\n",
      "          \"kwargs\": {\n",
      "            \"content\": \"During my internship at PwC, I conducted a comprehensive analysis of over 50,000 SAP incident \\nrecords, identifying patterns and deploying a decision tree model that achieved 97.7% \\naccuracy. I modularized the code for team-wide use, reﬂecting my attention to both model \\nperformance and collaboration.\",\n",
      "            \"response_metadata\": {\n",
      "              \"prompt_feedback\": {\n",
      "                \"block_reason\": 0,\n",
      "                \"safety_ratings\": []\n",
      "              },\n",
      "              \"finish_reason\": \"STOP\",\n",
      "              \"model_name\": \"gemini-2.0-flash\",\n",
      "              \"safety_ratings\": []\n",
      "            },\n",
      "            \"type\": \"ai\",\n",
      "            \"id\": \"run--c8b15547-1229-47bf-8bbc-2499dd578347-0\",\n",
      "            \"usage_metadata\": {\n",
      "              \"input_tokens\": 266,\n",
      "              \"output_tokens\": 73,\n",
      "              \"total_tokens\": 339,\n",
      "              \"input_token_details\": {\n",
      "                \"cache_read\": 0\n",
      "              }\n",
      "            },\n",
      "            \"tool_calls\": [],\n",
      "            \"invalid_tool_calls\": []\n",
      "          }\n",
      "        }\n",
      "      }\n",
      "    ]\n",
      "  ],\n",
      "  \"llm_output\": {\n",
      "    \"prompt_feedback\": {\n",
      "      \"block_reason\": 0,\n",
      "      \"safety_ratings\": []\n",
      "    }\n",
      "  },\n",
      "  \"run\": null,\n",
      "  \"type\": \"LLMResult\"\n",
      "}\n",
      "\u001b[36;1m\u001b[1;3m[llm/end]\u001b[0m \u001b[1m[chain:RetrievalQAWithSourcesChain > chain:MapReduceDocumentsChain > chain:LLMChain > llm:ChatGoogleGenerativeAI] [4.40s] Exiting LLM run with output:\n",
      "\u001b[0m{\n",
      "  \"generations\": [\n",
      "    [\n",
      "      {\n",
      "        \"text\": \"There is no mention of PwC in the provided text.\",\n",
      "        \"generation_info\": {\n",
      "          \"finish_reason\": \"STOP\",\n",
      "          \"model_name\": \"gemini-2.0-flash\",\n",
      "          \"safety_ratings\": []\n",
      "        },\n",
      "        \"type\": \"ChatGeneration\",\n",
      "        \"message\": {\n",
      "          \"lc\": 1,\n",
      "          \"type\": \"constructor\",\n",
      "          \"id\": [\n",
      "            \"langchain\",\n",
      "            \"schema\",\n",
      "            \"messages\",\n",
      "            \"AIMessage\"\n",
      "          ],\n",
      "          \"kwargs\": {\n",
      "            \"content\": \"There is no mention of PwC in the provided text.\",\n",
      "            \"response_metadata\": {\n",
      "              \"prompt_feedback\": {\n",
      "                \"block_reason\": 0,\n",
      "                \"safety_ratings\": []\n",
      "              },\n",
      "              \"finish_reason\": \"STOP\",\n",
      "              \"model_name\": \"gemini-2.0-flash\",\n",
      "              \"safety_ratings\": []\n",
      "            },\n",
      "            \"type\": \"ai\",\n",
      "            \"id\": \"run--9fad8da1-fdd1-4be4-867d-a53bfc0cb1f3-0\",\n",
      "            \"usage_metadata\": {\n",
      "              \"input_tokens\": 215,\n",
      "              \"output_tokens\": 12,\n",
      "              \"total_tokens\": 227,\n",
      "              \"input_token_details\": {\n",
      "                \"cache_read\": 0\n",
      "              }\n",
      "            },\n",
      "            \"tool_calls\": [],\n",
      "            \"invalid_tool_calls\": []\n",
      "          }\n",
      "        }\n",
      "      }\n",
      "    ]\n",
      "  ],\n",
      "  \"llm_output\": {\n",
      "    \"prompt_feedback\": {\n",
      "      \"block_reason\": 0,\n",
      "      \"safety_ratings\": []\n",
      "    }\n",
      "  },\n",
      "  \"run\": null,\n",
      "  \"type\": \"LLMResult\"\n",
      "}\n",
      "\u001b[36;1m\u001b[1;3m[llm/end]\u001b[0m \u001b[1m[chain:RetrievalQAWithSourcesChain > chain:MapReduceDocumentsChain > chain:LLMChain > llm:ChatGoogleGenerativeAI] [4.40s] Exiting LLM run with output:\n",
      "\u001b[0m{\n",
      "  \"generations\": [\n",
      "    [\n",
      "      {\n",
      "        \"text\": \"There is no information about PwC in the provided text.\",\n",
      "        \"generation_info\": {\n",
      "          \"finish_reason\": \"STOP\",\n",
      "          \"model_name\": \"gemini-2.0-flash\",\n",
      "          \"safety_ratings\": []\n",
      "        },\n",
      "        \"type\": \"ChatGeneration\",\n",
      "        \"message\": {\n",
      "          \"lc\": 1,\n",
      "          \"type\": \"constructor\",\n",
      "          \"id\": [\n",
      "            \"langchain\",\n",
      "            \"schema\",\n",
      "            \"messages\",\n",
      "            \"AIMessage\"\n",
      "          ],\n",
      "          \"kwargs\": {\n",
      "            \"content\": \"There is no information about PwC in the provided text.\",\n",
      "            \"response_metadata\": {\n",
      "              \"prompt_feedback\": {\n",
      "                \"block_reason\": 0,\n",
      "                \"safety_ratings\": []\n",
      "              },\n",
      "              \"finish_reason\": \"STOP\",\n",
      "              \"model_name\": \"gemini-2.0-flash\",\n",
      "              \"safety_ratings\": []\n",
      "            },\n",
      "            \"type\": \"ai\",\n",
      "            \"id\": \"run--3b45512d-db2c-4805-b5c1-9739668b95aa-0\",\n",
      "            \"usage_metadata\": {\n",
      "              \"input_tokens\": 279,\n",
      "              \"output_tokens\": 12,\n",
      "              \"total_tokens\": 291,\n",
      "              \"input_token_details\": {\n",
      "                \"cache_read\": 0\n",
      "              }\n",
      "            },\n",
      "            \"tool_calls\": [],\n",
      "            \"invalid_tool_calls\": []\n",
      "          }\n",
      "        }\n",
      "      }\n",
      "    ]\n",
      "  ],\n",
      "  \"llm_output\": {\n",
      "    \"prompt_feedback\": {\n",
      "      \"block_reason\": 0,\n",
      "      \"safety_ratings\": []\n",
      "    }\n",
      "  },\n",
      "  \"run\": null,\n",
      "  \"type\": \"LLMResult\"\n",
      "}\n",
      "\u001b[36;1m\u001b[1;3m[chain/end]\u001b[0m \u001b[1m[chain:RetrievalQAWithSourcesChain > chain:MapReduceDocumentsChain > chain:LLMChain] [4.41s] Exiting Chain run with output:\n",
      "\u001b[0m{\n",
      "  \"outputs\": [\n",
      "    {\n",
      "      \"text\": \"PwC, Gurgaon, India, (June 2022 - August 2022)\\n\\nIntern/Traineinee, Advisory- Technology Consulting\\n\\nCompleted company training programs to gain a basic understanding in SAP ERP technology.\\n\\nCollaborated with manager to perform an in-depth analysis of a substantial data dump containing over 50,000 SAP incident reports from a client company.\\n\\nImplemented advanced data analysis techniques and Python programming to explore the data which contained 30 features, identifying both positive trends and potential areas of concern.\\n\\nLeveraged newfound expertise to construct a decision tree model capable of predicting the possibility of successful resolution of incidents with an accuracy of 97.7%.\"\n",
      "    },\n",
      "    {\n",
      "      \"text\": \"During my internship at PwC, I conducted a comprehensive analysis of over 50,000 SAP incident \\nrecords, identifying patterns and deploying a decision tree model that achieved 97.7% \\naccuracy. I modularized the code for team-wide use, reﬂecting my attention to both model \\nperformance and collaboration.\"\n",
      "    },\n",
      "    {\n",
      "      \"text\": \"There is no mention of PwC in the provided text.\"\n",
      "    },\n",
      "    {\n",
      "      \"text\": \"There is no information about PwC in the provided text.\"\n",
      "    }\n",
      "  ]\n",
      "}\n",
      "\u001b[32;1m\u001b[1;3m[chain/start]\u001b[0m \u001b[1m[chain:RetrievalQAWithSourcesChain > chain:MapReduceDocumentsChain > chain:LLMChain] Entering Chain run with input:\n",
      "\u001b[0m{\n",
      "  \"question\": \"What did he do at PwC?\",\n",
      "  \"summaries\": \"Content: PwC, Gurgaon, India, (June 2022 - August 2022)\\n\\nIntern/Traineinee, Advisory- Technology Consulting\\n\\nCompleted company training programs to gain a basic understanding in SAP ERP technology.\\n\\nCollaborated with manager to perform an in-depth analysis of a substantial data dump containing over 50,000 SAP incident reports from a client company.\\n\\nImplemented advanced data analysis techniques and Python programming to explore the data which contained 30 features, identifying both positive trends and potential areas of concern.\\n\\nLeveraged newfound expertise to construct a decision tree model capable of predicting the possibility of successful resolution of incidents with an accuracy of 97.7%.\\nSource: Ankon Bhowmick Resume.docx\\n\\nContent: During my internship at PwC, I conducted a comprehensive analysis of over 50,000 SAP incident \\nrecords, identifying patterns and deploying a decision tree model that achieved 97.7% \\naccuracy. I modularized the code for team-wide use, reﬂecting my attention to both model \\nperformance and collaboration.\\nSource: Ankon Bhowmick Cover Letter.pdf\\n\\nContent: There is no mention of PwC in the provided text.\\nSource: Ankon Bhowmick Resume.docx\\n\\nContent: There is no information about PwC in the provided text.\\nSource: Ankon Bhowmick Resume.docx\"\n",
      "}\n",
      "\u001b[32;1m\u001b[1;3m[llm/start]\u001b[0m \u001b[1m[chain:RetrievalQAWithSourcesChain > chain:MapReduceDocumentsChain > chain:LLMChain > llm:ChatGoogleGenerativeAI] Entering LLM run with input:\n",
      "\u001b[0m{\n",
      "  \"prompts\": [\n",
      "    \"Human: Given the following extracted parts of a long document and a question, create a final answer with references (\\\"SOURCES\\\"). \\nIf you don't know the answer, just say that you don't know. Don't try to make up an answer.\\nALWAYS return a \\\"SOURCES\\\" part in your answer.\\n\\nQUESTION: Which state/country's law governs the interpretation of the contract?\\n=========\\nContent: This Agreement is governed by English law and the parties submit to the exclusive jurisdiction of the English courts in  relation to any dispute (contractual or non-contractual) concerning this Agreement save that either party may apply to any court for an  injunction or other relief to protect its Intellectual Property Rights.\\nSource: 28-pl\\nContent: No Waiver. Failure or delay in exercising any right or remedy under this Agreement shall not constitute a waiver of such (or any other)  right or remedy.\\n\\n11.7 Severability. The invalidity, illegality or unenforceability of any term (or part of a term) of this Agreement shall not affect the continuation  in force of the remainder of the term (if any) and this Agreement.\\n\\n11.8 No Agency. Except as expressly stated otherwise, nothing in this Agreement shall create an agency, partnership or joint venture of any  kind between the parties.\\n\\n11.9 No Third-Party Beneficiaries.\\nSource: 30-pl\\nContent: (b) if Google believes, in good faith, that the Distributor has violated or caused Google to violate any Anti-Bribery Laws (as  defined in Clause 8.5) or that such a violation is reasonably likely to occur,\\nSource: 4-pl\\n=========\\nFINAL ANSWER: This Agreement is governed by English law.\\nSOURCES: 28-pl\\n\\nQUESTION: What did the president say about Michael Jackson?\\n=========\\nContent: Madam Speaker, Madam Vice President, our First Lady and Second Gentleman. Members of Congress and the Cabinet. Justices of the Supreme Court. My fellow Americans.  \\n\\nLast year COVID-19 kept us apart. This year we are finally together again. \\n\\nTonight, we meet as Democrats Republicans and Independents. But most importantly as Americans. \\n\\nWith a duty to one another to the American people to the Constitution. \\n\\nAnd with an unwavering resolve that freedom will always triumph over tyranny. \\n\\nSix days ago, Russia’s Vladimir Putin sought to shake the foundations of the free world thinking he could make it bend to his menacing ways. But he badly miscalculated. \\n\\nHe thought he could roll into Ukraine and the world would roll over. Instead he met a wall of strength he never imagined. \\n\\nHe met the Ukrainian people. \\n\\nFrom President Zelenskyy to every Ukrainian, their fearlessness, their courage, their determination, inspires the world. \\n\\nGroups of citizens blocking tanks with their bodies. Everyone from students to retirees teachers turned soldiers defending their homeland.\\nSource: 0-pl\\nContent: And we won’t stop. \\n\\nWe have lost so much to COVID-19. Time with one another. And worst of all, so much loss of life. \\n\\nLet’s use this moment to reset. Let’s stop looking at COVID-19 as a partisan dividing line and see it for what it is: A God-awful disease.  \\n\\nLet’s stop seeing each other as enemies, and start seeing each other for who we really are: Fellow Americans.  \\n\\nWe can’t change how divided we’ve been. But we can change how we move forward—on COVID-19 and other issues we must face together. \\n\\nI recently visited the New York City Police Department days after the funerals of Officer Wilbert Mora and his partner, Officer Jason Rivera. \\n\\nThey were responding to a 9-1-1 call when a man shot and killed them with a stolen gun. \\n\\nOfficer Mora was 27 years old. \\n\\nOfficer Rivera was 22. \\n\\nBoth Dominican Americans who’d grown up on the same streets they later chose to patrol as police officers. \\n\\nI spoke with their families and told them that we are forever in debt for their sacrifice, and we will carry on their mission to restore the trust and safety every community deserves.\\nSource: 24-pl\\nContent: And a proud Ukrainian people, who have known 30 years  of independence, have repeatedly shown that they will not tolerate anyone who tries to take their country backwards.  \\n\\nTo all Americans, I will be honest with you, as I’ve always promised. A Russian dictator, invading a foreign country, has costs around the world. \\n\\nAnd I’m taking robust action to make sure the pain of our sanctions  is targeted at Russia’s economy. And I will use every tool at our disposal to protect American businesses and consumers. \\n\\nTonight, I can announce that the United States has worked with 30 other countries to release 60 Million barrels of oil from reserves around the world.  \\n\\nAmerica will lead that effort, releasing 30 Million barrels from our own Strategic Petroleum Reserve. And we stand ready to do more if necessary, unified with our allies.  \\n\\nThese steps will help blunt gas prices here at home. And I know the news about what’s happening can seem alarming. \\n\\nBut I want you to know that we are going to be okay.\\nSource: 5-pl\\nContent: More support for patients and families. \\n\\nTo get there, I call on Congress to fund ARPA-H, the Advanced Research Projects Agency for Health. \\n\\nIt’s based on DARPA—the Defense Department project that led to the Internet, GPS, and so much more.  \\n\\nARPA-H will have a singular purpose—to drive breakthroughs in cancer, Alzheimer’s, diabetes, and more. \\n\\nA unity agenda for the nation. \\n\\nWe can do this. \\n\\nMy fellow Americans—tonight , we have gathered in a sacred space—the citadel of our democracy. \\n\\nIn this Capitol, generation after generation, Americans have debated great questions amid great strife, and have done great things. \\n\\nWe have fought for freedom, expanded liberty, defeated totalitarianism and terror. \\n\\nAnd built the strongest, freest, and most prosperous nation the world has ever known. \\n\\nNow is the hour. \\n\\nOur moment of responsibility. \\n\\nOur test of resolve and conscience, of history itself. \\n\\nIt is in this moment that our character is formed. Our purpose is found. Our future is forged. \\n\\nWell I know this nation.\\nSource: 34-pl\\n=========\\nFINAL ANSWER: The president did not mention Michael Jackson.\\nSOURCES:\\n\\nQUESTION: What did he do at PwC?\\n=========\\nContent: PwC, Gurgaon, India, (June 2022 - August 2022)\\n\\nIntern/Traineinee, Advisory- Technology Consulting\\n\\nCompleted company training programs to gain a basic understanding in SAP ERP technology.\\n\\nCollaborated with manager to perform an in-depth analysis of a substantial data dump containing over 50,000 SAP incident reports from a client company.\\n\\nImplemented advanced data analysis techniques and Python programming to explore the data which contained 30 features, identifying both positive trends and potential areas of concern.\\n\\nLeveraged newfound expertise to construct a decision tree model capable of predicting the possibility of successful resolution of incidents with an accuracy of 97.7%.\\nSource: Ankon Bhowmick Resume.docx\\n\\nContent: During my internship at PwC, I conducted a comprehensive analysis of over 50,000 SAP incident \\nrecords, identifying patterns and deploying a decision tree model that achieved 97.7% \\naccuracy. I modularized the code for team-wide use, reﬂecting my attention to both model \\nperformance and collaboration.\\nSource: Ankon Bhowmick Cover Letter.pdf\\n\\nContent: There is no mention of PwC in the provided text.\\nSource: Ankon Bhowmick Resume.docx\\n\\nContent: There is no information about PwC in the provided text.\\nSource: Ankon Bhowmick Resume.docx\\n=========\\nFINAL ANSWER:\"\n",
      "  ]\n",
      "}\n",
      "\u001b[36;1m\u001b[1;3m[llm/end]\u001b[0m \u001b[1m[chain:RetrievalQAWithSourcesChain > chain:MapReduceDocumentsChain > chain:LLMChain > llm:ChatGoogleGenerativeAI] [1.74s] Exiting LLM run with output:\n",
      "\u001b[0m{\n",
      "  \"generations\": [\n",
      "    [\n",
      "      {\n",
      "        \"text\": \"During his internship at PwC, he conducted a comprehensive analysis of over 50,000 SAP incident records, identifying patterns and deploying a decision tree model that achieved 97.7% accuracy. He modularized the code for team-wide use. He also completed company training programs to gain a basic understanding in SAP ERP technology and implemented advanced data analysis techniques and Python programming to explore the data which contained 30 features, identifying both positive trends and potential areas of concern.\\nSOURCES: Ankon Bhowmick Resume.docx, Ankon Bhowmick Cover Letter.pdf\",\n",
      "        \"generation_info\": {\n",
      "          \"finish_reason\": \"STOP\",\n",
      "          \"model_name\": \"gemini-2.0-flash\",\n",
      "          \"safety_ratings\": []\n",
      "        },\n",
      "        \"type\": \"ChatGeneration\",\n",
      "        \"message\": {\n",
      "          \"lc\": 1,\n",
      "          \"type\": \"constructor\",\n",
      "          \"id\": [\n",
      "            \"langchain\",\n",
      "            \"schema\",\n",
      "            \"messages\",\n",
      "            \"AIMessage\"\n",
      "          ],\n",
      "          \"kwargs\": {\n",
      "            \"content\": \"During his internship at PwC, he conducted a comprehensive analysis of over 50,000 SAP incident records, identifying patterns and deploying a decision tree model that achieved 97.7% accuracy. He modularized the code for team-wide use. He also completed company training programs to gain a basic understanding in SAP ERP technology and implemented advanced data analysis techniques and Python programming to explore the data which contained 30 features, identifying both positive trends and potential areas of concern.\\nSOURCES: Ankon Bhowmick Resume.docx, Ankon Bhowmick Cover Letter.pdf\",\n",
      "            \"response_metadata\": {\n",
      "              \"prompt_feedback\": {\n",
      "                \"block_reason\": 0,\n",
      "                \"safety_ratings\": []\n",
      "              },\n",
      "              \"finish_reason\": \"STOP\",\n",
      "              \"model_name\": \"gemini-2.0-flash\",\n",
      "              \"safety_ratings\": []\n",
      "            },\n",
      "            \"type\": \"ai\",\n",
      "            \"id\": \"run--4ea6b847-a665-4120-aa7f-ee98a0faa87b-0\",\n",
      "            \"usage_metadata\": {\n",
      "              \"input_tokens\": 1724,\n",
      "              \"output_tokens\": 120,\n",
      "              \"total_tokens\": 1844,\n",
      "              \"input_token_details\": {\n",
      "                \"cache_read\": 0\n",
      "              }\n",
      "            },\n",
      "            \"tool_calls\": [],\n",
      "            \"invalid_tool_calls\": []\n",
      "          }\n",
      "        }\n",
      "      }\n",
      "    ]\n",
      "  ],\n",
      "  \"llm_output\": {\n",
      "    \"prompt_feedback\": {\n",
      "      \"block_reason\": 0,\n",
      "      \"safety_ratings\": []\n",
      "    }\n",
      "  },\n",
      "  \"run\": null,\n",
      "  \"type\": \"LLMResult\"\n",
      "}\n",
      "\u001b[36;1m\u001b[1;3m[chain/end]\u001b[0m \u001b[1m[chain:RetrievalQAWithSourcesChain > chain:MapReduceDocumentsChain > chain:LLMChain] [1.74s] Exiting Chain run with output:\n",
      "\u001b[0m{\n",
      "  \"text\": \"During his internship at PwC, he conducted a comprehensive analysis of over 50,000 SAP incident records, identifying patterns and deploying a decision tree model that achieved 97.7% accuracy. He modularized the code for team-wide use. He also completed company training programs to gain a basic understanding in SAP ERP technology and implemented advanced data analysis techniques and Python programming to explore the data which contained 30 features, identifying both positive trends and potential areas of concern.\\nSOURCES: Ankon Bhowmick Resume.docx, Ankon Bhowmick Cover Letter.pdf\"\n",
      "}\n",
      "\u001b[36;1m\u001b[1;3m[chain/end]\u001b[0m \u001b[1m[chain:RetrievalQAWithSourcesChain > chain:MapReduceDocumentsChain] [6.55s] Exiting Chain run with output:\n",
      "\u001b[0m{\n",
      "  \"output_text\": \"During his internship at PwC, he conducted a comprehensive analysis of over 50,000 SAP incident records, identifying patterns and deploying a decision tree model that achieved 97.7% accuracy. He modularized the code for team-wide use. He also completed company training programs to gain a basic understanding in SAP ERP technology and implemented advanced data analysis techniques and Python programming to explore the data which contained 30 features, identifying both positive trends and potential areas of concern.\\nSOURCES: Ankon Bhowmick Resume.docx, Ankon Bhowmick Cover Letter.pdf\"\n",
      "}\n",
      "\u001b[36;1m\u001b[1;3m[chain/end]\u001b[0m \u001b[1m[chain:RetrievalQAWithSourcesChain] [7.10s] Exiting Chain run with output:\n",
      "\u001b[0m{\n",
      "  \"answer\": \"During his internship at PwC, he conducted a comprehensive analysis of over 50,000 SAP incident records, identifying patterns and deploying a decision tree model that achieved 97.7% accuracy. He modularized the code for team-wide use. He also completed company training programs to gain a basic understanding in SAP ERP technology and implemented advanced data analysis techniques and Python programming to explore the data which contained 30 features, identifying both positive trends and potential areas of concern.\\n\",\n",
      "  \"sources\": \"Ankon Bhowmick Resume.docx, Ankon Bhowmick Cover Letter.pdf\"\n",
      "}\n"
     ]
    }
   ],
   "source": [
    "langchain.debug=True\n",
    "\n",
    "answer=chain({\"question\": my_query}, return_only_outputs=True)"
   ]
  },
  {
   "cell_type": "code",
   "execution_count": 63,
   "id": "8bf3b8cd-f5f2-4ab4-946b-87c07a2488b5",
   "metadata": {},
   "outputs": [
    {
     "name": "stdout",
     "output_type": "stream",
     "text": [
      "During his internship at PwC, he conducted a comprehensive analysis of over 50,000 SAP incident records, identifying patterns and deploying a decision tree model that achieved 97.7% accuracy. He modularized the code for team-wide use. He also completed company training programs to gain a basic understanding in SAP ERP technology and implemented advanced data analysis techniques and Python programming to explore the data which contained 30 features, identifying both positive trends and potential areas of concern.\n",
      "\n"
     ]
    }
   ],
   "source": [
    "from IPython.display import Markdown, display\n",
    "\n",
    "print(answer['answer'])"
   ]
  },
  {
   "cell_type": "code",
   "execution_count": 66,
   "id": "c979f340-1444-42b7-a753-e5179800470c",
   "metadata": {},
   "outputs": [],
   "source": [
    "dir_list = os.listdir(\"C://Users//ASUS//Documents//Python Scripts//LnE Langchain\")"
   ]
  },
  {
   "cell_type": "code",
   "execution_count": 67,
   "id": "07e8a078-add1-4810-b402-3160196067d2",
   "metadata": {},
   "outputs": [
    {
     "data": {
      "text/plain": [
       "['.ipynb_checkpoints',\n",
       " 'Ankon Bhowmick Cover Letter.pdf',\n",
       " 'Ankon Bhowmick Resume.docx',\n",
       " 'Learning.ipynb',\n",
       " 'Project.ipynb']"
      ]
     },
     "execution_count": 67,
     "metadata": {},
     "output_type": "execute_result"
    }
   ],
   "source": [
    "dir_list"
   ]
  },
  {
   "cell_type": "code",
   "execution_count": 68,
   "id": "7f2f33fb-40d1-4c18-b3f3-a80d42510983",
   "metadata": {},
   "outputs": [
    {
     "name": "stdout",
     "output_type": "stream",
     "text": [
      "Ankon Bhowmick Cover Letter.pdf\n"
     ]
    }
   ],
   "source": [
    "for x in dir_list:\n",
    "    if x.endswith(\".pdf\"):\n",
    "        print(x)"
   ]
  }
 ],
 "metadata": {
  "kernelspec": {
   "display_name": "Python 3 (ipykernel)",
   "language": "python",
   "name": "python3"
  },
  "language_info": {
   "codemirror_mode": {
    "name": "ipython",
    "version": 3
   },
   "file_extension": ".py",
   "mimetype": "text/x-python",
   "name": "python",
   "nbconvert_exporter": "python",
   "pygments_lexer": "ipython3",
   "version": "3.11.7"
  }
 },
 "nbformat": 4,
 "nbformat_minor": 5
}
